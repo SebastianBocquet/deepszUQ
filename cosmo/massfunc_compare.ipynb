{
 "cells": [
  {
   "cell_type": "code",
   "execution_count": 19,
   "id": "08e28e63",
   "metadata": {},
   "outputs": [
    {
     "data": {
      "text/html": [
       "<div>\n",
       "<style scoped>\n",
       "    .dataframe tbody tr th:only-of-type {\n",
       "        vertical-align: middle;\n",
       "    }\n",
       "\n",
       "    .dataframe tbody tr th {\n",
       "        vertical-align: top;\n",
       "    }\n",
       "\n",
       "    .dataframe thead th {\n",
       "        text-align: right;\n",
       "    }\n",
       "</style>\n",
       "<table border=\"1\" class=\"dataframe\">\n",
       "  <thead>\n",
       "    <tr style=\"text-align: right;\">\n",
       "      <th></th>\n",
       "      <th>redshift</th>\n",
       "      <th>Mvir</th>\n",
       "    </tr>\n",
       "  </thead>\n",
       "  <tbody>\n",
       "    <tr>\n",
       "      <th>0</th>\n",
       "      <td>0.1005</td>\n",
       "      <td>1.724286e+14</td>\n",
       "    </tr>\n",
       "    <tr>\n",
       "      <th>1</th>\n",
       "      <td>0.1007</td>\n",
       "      <td>1.246599e+14</td>\n",
       "    </tr>\n",
       "    <tr>\n",
       "      <th>2</th>\n",
       "      <td>0.1005</td>\n",
       "      <td>1.169708e+14</td>\n",
       "    </tr>\n",
       "    <tr>\n",
       "      <th>3</th>\n",
       "      <td>0.1005</td>\n",
       "      <td>3.611967e+14</td>\n",
       "    </tr>\n",
       "    <tr>\n",
       "      <th>4</th>\n",
       "      <td>0.1009</td>\n",
       "      <td>5.762038e+14</td>\n",
       "    </tr>\n",
       "    <tr>\n",
       "      <th>...</th>\n",
       "      <td>...</td>\n",
       "      <td>...</td>\n",
       "    </tr>\n",
       "    <tr>\n",
       "      <th>83823</th>\n",
       "      <td>2.5952</td>\n",
       "      <td>1.028421e+14</td>\n",
       "    </tr>\n",
       "    <tr>\n",
       "      <th>83824</th>\n",
       "      <td>2.6017</td>\n",
       "      <td>1.029382e+14</td>\n",
       "    </tr>\n",
       "    <tr>\n",
       "      <th>83825</th>\n",
       "      <td>2.5939</td>\n",
       "      <td>1.179320e+14</td>\n",
       "    </tr>\n",
       "    <tr>\n",
       "      <th>83826</th>\n",
       "      <td>2.6291</td>\n",
       "      <td>1.113962e+14</td>\n",
       "    </tr>\n",
       "    <tr>\n",
       "      <th>83827</th>\n",
       "      <td>2.6530</td>\n",
       "      <td>1.002470e+14</td>\n",
       "    </tr>\n",
       "  </tbody>\n",
       "</table>\n",
       "<p>83828 rows × 2 columns</p>\n",
       "</div>"
      ],
      "text/plain": [
       "       redshift          Mvir\n",
       "0        0.1005  1.724286e+14\n",
       "1        0.1007  1.246599e+14\n",
       "2        0.1005  1.169708e+14\n",
       "3        0.1005  3.611967e+14\n",
       "4        0.1009  5.762038e+14\n",
       "...         ...           ...\n",
       "83823    2.5952  1.028421e+14\n",
       "83824    2.6017  1.029382e+14\n",
       "83825    2.5939  1.179320e+14\n",
       "83826    2.6291  1.113962e+14\n",
       "83827    2.6530  1.002470e+14\n",
       "\n",
       "[83828 rows x 2 columns]"
      ]
     },
     "execution_count": 19,
     "metadata": {},
     "output_type": "execute_result"
    }
   ],
   "source": [
    "import pandas as pd\n",
    "import numpy as np\n",
    "import matplotlib.pyplot as plt\n",
    "%matplotlib inline\n",
    "\n",
    "def _read_dataframe(fname='20220413_MF.csv'):\n",
    "    dataframe = pd.read_csv(fname)\n",
    "    assert 'redshift' in dataframe.columns and 'Mvir' in dataframe.columns\n",
    "    if 'split' not in dataframe:\n",
    "        pass\n",
    "        #dataframe = dataframe.iloc[np.random.RandomState(7).choice(dataframe.index, int(0.2 * len(dataframe)), replace=False)]\n",
    "    else:\n",
    "        dataframe = dataframe[dataframe['split'] == 'test']\n",
    "    return dataframe.reset_index().reindex(columns=['redshift', 'Mvir'])\n",
    "df = _read_dataframe('/srv/scratch1/zhenlin4/deepszUQ/Temp/20220910_filter_z0.1_m1e14.csv')\n",
    "df"
   ]
  },
  {
   "cell_type": "code",
   "execution_count": 8,
   "id": "049ba6cc",
   "metadata": {},
   "outputs": [],
   "source": [
    "\n",
    "from colossus.cosmology import cosmology as cocosmology\n",
    "from colossus.lss import mass_function\n",
    "cosmology = {\n",
    "                 'Omega_m': 0.264,\n",
    "                 'Omega_b': 0.044, #block.get_double('cosmological_parameters', 'Omega_b'),\n",
    "                 'Omega_l': 0.736,\n",
    "                 'w0': -1.0,\n",
    "                 'wa': 0.0,\n",
    "                 'h': 0.71,\n",
    "                 'sigma8': 0.80,\n",
    "                 'ns': 0.96,\n",
    "                 'mass_bias': 1.0,\n",
    "                 'Tcmb0' : 2.726,\n",
    "    }\n",
    "\n",
    "co_params = {'flat': True}\n",
    "for me,co in zip(['h', 'Omega_m', 'Omega_b', 'sigma8', 'ns', 'Tcmb0'],\n",
    "                     ['H0', 'Om0', 'Ob0', 'sigma8', 'ns', 'Tcmb0']):\n",
    "    co_params[co] = cosmology[me]\n",
    "co_params['H0']*= 100\n",
    "\n",
    "_ = cocosmology.setCosmology('', co_params)\n",
    "cosmo = cocosmology.getCurrent()"
   ]
  },
  {
   "cell_type": "code",
   "execution_count": 14,
   "id": "8941fa84",
   "metadata": {},
   "outputs": [],
   "source": [
    "\n",
    "M_arr = np.logspace(13.9,16,256)\n",
    "z_arr = np.linspace(.1,2,128)\n",
    "massfunc = np.array([mass_function.massFunction(M_arr, z, mdef='vir', model='despali16', q_in='M', q_out='dndlnM') for z in z_arr])"
   ]
  },
  {
   "cell_type": "code",
   "execution_count": 34,
   "id": "0cb09eff",
   "metadata": {},
   "outputs": [
    {
     "name": "stdout",
     "output_type": "stream",
     "text": [
      "z in [0.5338582677165354, 0.5637795275590551]\n"
     ]
    },
    {
     "data": {
      "image/png": "[encoded data removed]",
      "text/plain": [
       "<Figure size 432x288 with 2 Axes>"
      ]
     },
     "metadata": {
      "needs_background": "light"
     },
     "output_type": "display_data"
    }
   ],
   "source": [
    "z_loc = 30\n",
    "z_min, z_max = z_arr[z_loc - 1], z_arr[z_loc + 1]\n",
    "tdf = df[(df['redshift'] >= z_min) & (df['redshift'] <= z_max)]\n",
    "_ = plt.hist(tdf['Mvir'], bins=M_arr, weights=1./len(tdf) * np.ones(len(tdf)))\n",
    "ax = plt.twinx()\n",
    "ax.plot(M_arr, massfunc[z_loc], color='red', alpha=0.5)\n",
    "print(f\"z in [{z_min}, {z_max}]\")"
   ]
  }
 ],
 "metadata": {
  "kernelspec": {
   "display_name": "Python 3 (ipykernel)",
   "language": "python",
   "name": "python3"
  },
  "language_info": {
   "codemirror_mode": {
    "name": "ipython",
    "version": 3
   },
   "file_extension": ".py",
   "mimetype": "text/x-python",
   "name": "python",
   "nbconvert_exporter": "python",
   "pygments_lexer": "ipython3",
   "version": "3.9.0"
  }
 },
 "nbformat": 4,
 "nbformat_minor": 5
}
